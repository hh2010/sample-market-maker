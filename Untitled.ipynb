{
 "cells": [
  {
   "cell_type": "code",
   "execution_count": 6,
   "metadata": {
    "ExecuteTime": {
     "end_time": "2019-12-05T06:01:58.463095Z",
     "start_time": "2019-12-05T06:01:58.455317Z"
    }
   },
   "outputs": [],
   "source": [
    "import sys\n",
    "import websocket\n",
    "import threading\n",
    "import traceback\n",
    "import ssl\n",
    "from time import sleep\n",
    "import json\n",
    "import decimal\n",
    "import logging\n",
    "from market_maker.settings import settings\n",
    "from market_maker.auth.APIKeyAuth import generate_expires, generate_signature\n",
    "from market_maker.utils.log import setup_custom_logger\n",
    "from market_maker.utils.math import toNearest\n",
    "from future.utils import iteritems\n",
    "from future.standard_library import hooks\n",
    "with hooks():  # Python 2/3 compat\n",
    "    from urllib.parse import urlparse, urlunparse"
   ]
  },
  {
   "cell_type": "code",
   "execution_count": null,
   "metadata": {},
   "outputs": [],
   "source": []
  }
 ],
 "metadata": {
  "hide_input": false,
  "kernelspec": {
   "display_name": "Python 3",
   "language": "python",
   "name": "python3"
  },
  "language_info": {
   "codemirror_mode": {
    "name": "ipython",
    "version": 3
   },
   "file_extension": ".py",
   "mimetype": "text/x-python",
   "name": "python",
   "nbconvert_exporter": "python",
   "pygments_lexer": "ipython3",
   "version": "3.7.3"
  }
 },
 "nbformat": 4,
 "nbformat_minor": 2
}
